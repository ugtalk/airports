{
 "cells": [
  {
   "cell_type": "code",
   "execution_count": 85,
   "metadata": {},
   "outputs": [],
   "source": [
    "#echo %GOOGLE_API_KEY%\n"
   ]
  },
  {
   "cell_type": "code",
   "execution_count": 86,
   "metadata": {},
   "outputs": [],
   "source": [
    "import google.generativeai as genai\n",
    "import os\n",
    "\n",
    "# API_KEY = os.getenv(\"GOOGLE_API_KEY\")\n",
    "\n",
    "genai.configure(api_key=os.getenv(\"GOOGLE_API_KEY\"))"
   ]
  },
  {
   "cell_type": "code",
   "execution_count": null,
   "metadata": {},
   "outputs": [],
   "source": [
    "# Testing prompt\n",
    "\n",
    "# model = genai.GenerativeModel(\"gemini-1.5-flash\")\n",
    "# response = model.generate_content(\"Who or what is the international airport in Algiers, < Houari Boumediene Airport > named after? \")\n",
    "# print(response.text)"
   ]
  },
  {
   "cell_type": "code",
   "execution_count": null,
   "metadata": {},
   "outputs": [],
   "source": [
    "import pandas as pd\n",
    "import google.generativeai as genai\n",
    "from google.generativeai.types import HarmCategory, HarmBlockThreshold\n",
    "import os\n",
    "import time\n",
    "\n",
    "# Step 1: Configure genai client\n",
    "api_key = os.getenv(\"GOOGLE_API_KEY\")\n",
    "genai.configure(api_key=api_key)\n",
    "\n",
    "# Step 2: Read the Excel file\n",
    "file_path = \"international_airports.xlsx\"\n",
    "df = pd.read_excel(file_path, engine=\"openpyxl\")\n",
    "\n",
    "# Step 3: Initialize the model\n",
    "# model = genai.GenerativeModel(\"gemini-1.5-flash\")\n",
    "model = genai.GenerativeModel(\"gemini-1.5-pro\")\n",
    "\n",
    "# Step 4: Loop through the Excel data\n",
    "for index, row in df.iterrows():\n",
    "    airport_name = row['Airport']  # Replace with the correct column name from your Excel\n",
    "    country_name = row['Location']\n",
    "\n",
    "    # time.sleep(5)\n",
    "    \n",
    "    # Step 5: Formulate the prompt\n",
    "    prompt = f\"Who or what is the international airport {airport_name} in the country {country_name} named after? What category does the name fall under? Category options: Political figure, A Historical Event, City, Geographical Feature (other than city), Artist, Industrialist, Other. Give your answer in two parts, separated by a semicolon in this format and keep it short: [Named After + short description]; [Category]\"\n",
    "\n",
    "    # Step 6: Send request to the model\n",
    "    response = model.generate_content(\n",
    "        prompt,\n",
    "        safety_settings={\n",
    "            HarmCategory.HARM_CATEGORY_HATE_SPEECH: HarmBlockThreshold.BLOCK_NONE,\n",
    "            HarmCategory.HARM_CATEGORY_HARASSMENT: HarmBlockThreshold.BLOCK_NONE,\n",
    "        }                              \n",
    "    )\n",
    "    \n",
    "    # Step 7: Print or save the result\n",
    "    print(f\"Airport: {airport_name}\")\n",
    "    print(f\"Response: {response.text}\")\n",
    "    print(\"=\"*50)\n",
    "\n",
    "    # Store the response in the list\n",
    "    # response.append(response.text)\n",
    "    #print(response)\n",
    "    \n",
    "    #  Add the responses to a new column in the DataFrame\n",
    "    df['based_on'][index] = airport_name\n",
    "    df['category'][index] = response.text\n",
    "\n",
    "# Save the DataFrame back to Excel\n",
    "df.to_excel(\"updated_airports.xlsx\", index=False)\n"
   ]
  }
 ],
 "metadata": {
  "kernelspec": {
   "display_name": "Python 3",
   "language": "python",
   "name": "python3"
  },
  "language_info": {
   "codemirror_mode": {
    "name": "ipython",
    "version": 3
   },
   "file_extension": ".py",
   "mimetype": "text/x-python",
   "name": "python",
   "nbconvert_exporter": "python",
   "pygments_lexer": "ipython3",
   "version": "3.11.9"
  }
 },
 "nbformat": 4,
 "nbformat_minor": 2
}
